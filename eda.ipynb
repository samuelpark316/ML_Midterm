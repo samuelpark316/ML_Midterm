{
 "cells": [
  {
   "cell_type": "code",
   "execution_count": 8,
   "metadata": {},
   "outputs": [],
   "source": [
    "# import libraries\n",
    "\n",
    "import scipy.stats as stats\n",
    "import matplotlib.pyplot as plt\n",
    "import numpy as np\n",
    "import pandas as pd\n",
    "import sklearn"
   ]
  },
  {
   "cell_type": "code",
   "execution_count": 11,
   "metadata": {},
   "outputs": [
    {
     "name": "stdout",
     "output_type": "stream",
     "text": [
      "                            track_name    artist(s)_name  artist_count  \\\n",
      "0  Seven (feat. Latto) (Explicit Ver.)  Latto, Jung Kook             2   \n",
      "1                                 LALA       Myke Towers             1   \n",
      "2                              vampire    Olivia Rodrigo             1   \n",
      "3                         Cruel Summer      Taylor Swift             1   \n",
      "4                       WHERE SHE GOES         Bad Bunny             1   \n",
      "\n",
      "   released_year  released_month  released_day  in_spotify_playlists  \\\n",
      "0           2023               7            14                   553   \n",
      "1           2023               3            23                  1474   \n",
      "2           2023               6            30                  1397   \n",
      "3           2019               8            23                  7858   \n",
      "4           2023               5            18                  3133   \n",
      "\n",
      "   in_spotify_charts    streams  in_apple_playlists  ...  bpm key   mode  \\\n",
      "0                147  141381703                  43  ...  125   B  Major   \n",
      "1                 48  133716286                  48  ...   92  C#  Major   \n",
      "2                113  140003974                  94  ...  138   F  Major   \n",
      "3                100  800840817                 116  ...  170   A  Major   \n",
      "4                 50  303236322                  84  ...  144   A  Minor   \n",
      "\n",
      "  danceability_%  valence_% energy_% acousticness_%  instrumentalness_%  \\\n",
      "0             80         89       83             31                   0   \n",
      "1             71         61       74              7                   0   \n",
      "2             51         32       53             17                   0   \n",
      "3             55         58       72             11                   0   \n",
      "4             65         23       80             14                  63   \n",
      "\n",
      "   liveness_%  speechiness_%  \n",
      "0           8              4  \n",
      "1          10              4  \n",
      "2          31              6  \n",
      "3          11             15  \n",
      "4          11              6  \n",
      "\n",
      "[5 rows x 24 columns]\n"
     ]
    }
   ],
   "source": [
    "spotify_dataset = pd.read_csv('spotify_2023.csv', encoding='latin1')\n",
    "\n",
    "print(spotify_dataset.head())\n"
   ]
  }
 ],
 "metadata": {
  "kernelspec": {
   "display_name": ".venv",
   "language": "python",
   "name": "python3"
  },
  "language_info": {
   "codemirror_mode": {
    "name": "ipython",
    "version": 3
   },
   "file_extension": ".py",
   "mimetype": "text/x-python",
   "name": "python",
   "nbconvert_exporter": "python",
   "pygments_lexer": "ipython3",
   "version": "3.13.2"
  }
 },
 "nbformat": 4,
 "nbformat_minor": 2
}
